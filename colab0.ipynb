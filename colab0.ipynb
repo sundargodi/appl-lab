{
  "nbformat": 4,
  "nbformat_minor": 0,
  "metadata": {
    "colab": {
      "name": "colab0.ipynb",
      "provenance": [],
      "authorship_tag": "ABX9TyPzRRIOnSEB3ccNc3GXFLKK",
      "include_colab_link": true
    },
    "kernelspec": {
      "name": "python3",
      "display_name": "Python 3"
    },
    "language_info": {
      "name": "python"
    }
  },
  "cells": [
    {
      "cell_type": "markdown",
      "metadata": {
        "id": "view-in-github",
        "colab_type": "text"
      },
      "source": [
        "<a href=\"https://colab.research.google.com/github/sundargodi/appl-lab/blob/main/colab0.ipynb\" target=\"_parent\"><img src=\"https://colab.research.google.com/assets/colab-badge.svg\" alt=\"Open In Colab\"/></a>"
      ]
    },
    {
      "cell_type": "markdown",
      "metadata": {
        "id": "G94eHfBgGJD0"
      },
      "source": [
        "#  third script\n"
      ]
    },
    {
      "cell_type": "code",
      "metadata": {
        "id": "I8z1moy4GZfi"
      },
      "source": [
        "x=5\n",
        "u=10\n",
        "x,u=u,x\n",
        "print(x)\n",
        "print(u)"
      ],
      "execution_count": null,
      "outputs": []
    }
  ]
}