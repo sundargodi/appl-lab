{
  "nbformat": 4,
  "nbformat_minor": 0,
  "metadata": {
    "colab": {
      "name": "colab0.ipynb",
      "provenance": [],
      "authorship_tag": "ABX9TyNPl2iBApvOlg22QHp1vWzA",
      "include_colab_link": true
    },
    "kernelspec": {
      "name": "python3",
      "display_name": "Python 3"
    },
    "language_info": {
      "name": "python"
    }
  },
  "cells": [
    {
      "cell_type": "markdown",
      "metadata": {
        "id": "view-in-github",
        "colab_type": "text"
      },
      "source": [
        "<a href=\"https://colab.research.google.com/github/sundargodi/appl-lab/blob/main/colab0.ipynb\" target=\"_parent\"><img src=\"https://colab.research.google.com/assets/colab-badge.svg\" alt=\"Open In Colab\"/></a>"
      ]
    },
    {
      "cell_type": "markdown",
      "metadata": {
        "id": "MQM3zbix3XnO"
      },
      "source": [
        "my first note book"
      ]
    },
    {
      "cell_type": "code",
      "metadata": {
        "colab": {
          "base_uri": "https://localhost:8080/"
        },
        "id": "11C4_whl3wzJ",
        "outputId": "5f2609e0-7bf9-49b8-ecdd-bb2d1c6209f4"
      },
      "source": [
        "a=int(input(\"enter a number:\"))\n",
        "b=int(input(\"enter a number:\"))\n",
        "print(\"sum of {}+{} = {}\".format(a,b,a+b))"
      ],
      "execution_count": null,
      "outputs": [
        {
          "output_type": "stream",
          "text": [
            "enter a number:10\n",
            "enter a number:20\n",
            "sum of 10+20 = 30\n"
          ],
          "name": "stdout"
        }
      ]
    }
  ]
}