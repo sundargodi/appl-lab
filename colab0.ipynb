{
  "nbformat": 4,
  "nbformat_minor": 0,
  "metadata": {
    "colab": {
      "name": "colab0.ipynb",
      "provenance": [],
      "authorship_tag": "ABX9TyMAyGqZWkmoRKDh4dH784x/",
      "include_colab_link": true
    },
    "kernelspec": {
      "name": "python3",
      "display_name": "Python 3"
    },
    "language_info": {
      "name": "python"
    }
  },
  "cells": [
    {
      "cell_type": "markdown",
      "metadata": {
        "id": "view-in-github",
        "colab_type": "text"
      },
      "source": [
        "<a href=\"https://colab.research.google.com/github/sundargodi/appl-lab/blob/main/colab0.ipynb\" target=\"_parent\"><img src=\"https://colab.research.google.com/assets/colab-badge.svg\" alt=\"Open In Colab\"/></a>"
      ]
    },
    {
      "cell_type": "markdown",
      "metadata": {
        "id": "mOwSYJVn4fvc"
      },
      "source": [
        "#second script"
      ]
    },
    {
      "cell_type": "code",
      "metadata": {
        "colab": {
          "base_uri": "https://localhost:8080/"
        },
        "id": "Z-BTwwFl4qkI",
        "outputId": "171f5d34-8de5-4083-e64c-566a81f4436e"
      },
      "source": [
        "# fibonacci using recursion\n",
        "def fib(n):\n",
        "  if n <=1:\n",
        "    return n\n",
        "  else :\n",
        "    return fib(n-1) + fib(n-2)\n",
        "n=int(input())\n",
        "print(fib(n))"
      ],
      "execution_count": 9,
      "outputs": [
        {
          "output_type": "stream",
          "text": [
            "3\n",
            "2\n"
          ],
          "name": "stdout"
        }
      ]
    },
    {
      "cell_type": "code",
      "metadata": {
        "id": "HtV63YNs4xp9"
      },
      "source": [
        ""
      ],
      "execution_count": null,
      "outputs": []
    }
  ]
}